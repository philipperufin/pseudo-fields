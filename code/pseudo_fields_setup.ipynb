{
  "cells": [
    {
      "cell_type": "code",
      "execution_count": null,
      "metadata": {
        "id": "5Ujz4W0DnnK4"
      },
      "outputs": [],
      "source": [
        "import os\n",
        "import sys\n",
        "import glob\n",
        "import time"
      ]
    },
    {
      "cell_type": "code",
      "source": [
        "from google.colab import drive\n",
        "drive.mount('/content/drive')"
      ],
      "metadata": {
        "colab": {
          "base_uri": "https://localhost:8080/"
        },
        "id": "AmYam9RPxxG9",
        "outputId": "9e653261-589c-4941-d2a9-35ab087144b2"
      },
      "execution_count": null,
      "outputs": [
        {
          "output_type": "stream",
          "name": "stdout",
          "text": [
            "Mounted at /content/drive\n"
          ]
        }
      ]
    },
    {
      "cell_type": "code",
      "source": [
        "# clones pseudo-fields repository into Google Drive\n",
        "%cd '/content/drive/MyDrive/'\n",
        "!git clone https://github.com/philipperufin/pseudo-fields.git"
      ],
      "metadata": {
        "colab": {
          "base_uri": "https://localhost:8080/"
        },
        "id": "tekAVsK_aYEQ",
        "outputId": "dbdd9bb1-00f2-4264-e943-47a314a60e13"
      },
      "execution_count": null,
      "outputs": [
        {
          "output_type": "stream",
          "name": "stdout",
          "text": [
            "Cloning into 'pseudo-fields'...\n",
            "remote: Enumerating objects: 28, done.\u001b[K\n",
            "remote: Counting objects: 100% (19/19), done.\u001b[K\n",
            "remote: Compressing objects: 100% (16/16), done.\u001b[K\n",
            "remote: Total 28 (delta 2), reused 14 (delta 0), pack-reused 9\u001b[K\n",
            "Receiving objects: 100% (28/28), 72.53 MiB | 14.71 MiB/s, done.\n",
            "Resolving deltas: 100% (2/2), done.\n"
          ]
        }
      ]
    },
    {
      "cell_type": "code",
      "source": [
        "# reset working directory & clone DECODE repository\n",
        "%cd '/content/drive/MyDrive/pseudo-fields/'\n",
        "!git clone https://github.com/waldnerf/decode.git # clones DECODE repository"
      ],
      "metadata": {
        "colab": {
          "base_uri": "https://localhost:8080/"
        },
        "id": "T5sGFk69qwpM",
        "outputId": "7430d054-f192-41e3-dfe4-96f3e5a6c316"
      },
      "execution_count": null,
      "outputs": [
        {
          "output_type": "stream",
          "name": "stdout",
          "text": [
            "Cloning into 'decode'...\n",
            "remote: Enumerating objects: 124, done.\u001b[K\n",
            "remote: Counting objects: 100% (124/124), done.\u001b[K\n",
            "remote: Compressing objects: 100% (88/88), done.\u001b[K\n",
            "remote: Total 124 (delta 39), reused 100 (delta 23), pack-reused 0\u001b[K\n",
            "Receiving objects: 100% (124/124), 17.85 MiB | 14.03 MiB/s, done.\n",
            "Resolving deltas: 100% (39/39), done.\n"
          ]
        }
      ]
    },
    {
      "cell_type": "code",
      "source": [
        "# download pre-trained model weights from Wang et al. 2022\n",
        "os.makedirs('model/', exist_ok=True)\n",
        "!wget \"https://zenodo.org/records/7315090/files/india_Airbus_SPOT_model.params?download=1\" -O \"model/india_airbus_spot_model.params\"\n"
      ],
      "metadata": {
        "colab": {
          "base_uri": "https://localhost:8080/"
        },
        "id": "RSKuW5q_iyJq",
        "outputId": "0f76a921-3e1e-4faa-8bb9-77fa3133b0d8"
      },
      "execution_count": null,
      "outputs": [
        {
          "output_type": "stream",
          "name": "stdout",
          "text": [
            "--2024-07-24 15:45:55--  https://zenodo.org/records/7315090/files/india_Airbus_SPOT_model.params?download=1\n",
            "Resolving zenodo.org (zenodo.org)... 188.184.103.159, 188.184.98.238, 188.185.79.172, ...\n",
            "Connecting to zenodo.org (zenodo.org)|188.184.103.159|:443... connected.\n",
            "HTTP request sent, awaiting response... 200 OK\n",
            "Length: 256667091 (245M) [application/octet-stream]\n",
            "Saving to: ‘model/india_airbus_spot_model.params’\n",
            "\n",
            "model/india_airbus_ 100%[===================>] 244.78M  8.86MB/s    in 26s     \n",
            "\n",
            "2024-07-24 15:46:22 (9.41 MB/s) - ‘model/india_airbus_spot_model.params’ saved [256667091/256667091]\n",
            "\n"
          ]
        }
      ]
    }
  ],
  "metadata": {
    "accelerator": "GPU",
    "colab": {
      "provenance": [],
      "gpuType": "T4"
    },
    "kernelspec": {
      "display_name": "Python 3",
      "name": "python3"
    },
    "language_info": {
      "name": "python"
    }
  },
  "nbformat": 4,
  "nbformat_minor": 0
}